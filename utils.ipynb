{
 "cells": [
  {
   "cell_type": "code",
   "execution_count": 6,
   "id": "9c971b0d",
   "metadata": {},
   "outputs": [],
   "source": [
    "import numpy\n",
    "from numpy import zeros,ones,expand_dims,hstack\n",
    "from numpy.random import randn,randint\n",
    "\n",
    "import tensorflow as tf\n",
    "from tensorflow.keras.utils import to_categorical"
   ]
  },
  {
   "cell_type": "code",
   "execution_count": 4,
   "id": "c5610a1a",
   "metadata": {},
   "outputs": [
    {
     "ename": "SyntaxError",
     "evalue": "unexpected EOF while parsing (<ipython-input-4-3129f28e742d>, line 2)",
     "output_type": "error",
     "traceback": [
      "\u001b[0;36m  File \u001b[0;32m\"<ipython-input-4-3129f28e742d>\"\u001b[0;36m, line \u001b[0;32m2\u001b[0m\n\u001b[0;31m    #Need to write fuction so as to load the dataset\u001b[0m\n\u001b[0m                                                    ^\u001b[0m\n\u001b[0;31mSyntaxError\u001b[0m\u001b[0;31m:\u001b[0m unexpected EOF while parsing\n"
     ]
    }
   ],
   "source": [
    "def load_dataset():\n",
    "    #Need to write fuction so as to load the dataset"
   ]
  },
  {
   "cell_type": "code",
   "execution_count": 5,
   "id": "b95c3788",
   "metadata": {},
   "outputs": [],
   "source": [
    "def generate_real_samples(dataset,num_samples):\n",
    "    \"\"\"\n",
    "    Samples real dataset with class labels, that needs to be fed into the network\n",
    "    \"\"\"\n",
    "    index = randint(0, dataset.shape[0], num_samples)\n",
    "    # select images and labels\n",
    "    X = dataset[index]\n",
    "    # generate class labels\n",
    "    y = ones((num_samples, 1))\n",
    "    return X, y"
   ]
  },
  {
   "cell_type": "code",
   "execution_count": 7,
   "id": "515231e7",
   "metadata": {},
   "outputs": [],
   "source": [
    "def generate_latent_points(latent_dim, num_cat, num_samples):\n",
    "    \"\"\"\n",
    "    generate points in latent space as input for the generator\n",
    "    \n",
    "    \"\"\"\n",
    "    # generate points in the latent space\n",
    "    z_latent = randn(latent_dim * num_samples)\n",
    "    # reshape into a batch of inputs for the network\n",
    "    z_latent = z_latent.reshape(num_samples, latent_dim)\n",
    "    # generate categorical codes\n",
    "    cat_codes = randint(0, num_cat, num_samples)\n",
    "    # one hot encode\n",
    "    cat_codes = to_categorical(cat_codes, num_classes=num_cat)\n",
    "    # concatenate latent points and control codes\n",
    "    z_input = hstack((z_latent, cat_codes))\n",
    "    return [z_input, cat_codes]\n",
    " \n"
   ]
  },
  {
   "cell_type": "code",
   "execution_count": 8,
   "id": "30f953f9",
   "metadata": {},
   "outputs": [],
   "source": [
    "def generate_fake_samples(generator, latent_dim, num_cat, num_samples):\n",
    "    \"\"\"\n",
    "    use the generator to generate n fake examples, with class labels\n",
    "    \"\"\"\n",
    "    # generate points in latent space and control codes\n",
    "    z_input, _ = generate_latent_points(latent_dim, num_cat, num_samples)\n",
    "    # predict outputs\n",
    "    images = generator.predict(z_input)\n",
    "    # create class labels\n",
    "    y = zeros((n_samples, 1))\n",
    "    return images, y"
   ]
  },
  {
   "cell_type": "code",
   "execution_count": null,
   "id": "34b042a2",
   "metadata": {},
   "outputs": [],
   "source": []
  }
 ],
 "metadata": {
  "kernelspec": {
   "display_name": "Python 3",
   "language": "python",
   "name": "python3"
  },
  "language_info": {
   "codemirror_mode": {
    "name": "ipython",
    "version": 3
   },
   "file_extension": ".py",
   "mimetype": "text/x-python",
   "name": "python",
   "nbconvert_exporter": "python",
   "pygments_lexer": "ipython3",
   "version": "3.6.13"
  }
 },
 "nbformat": 4,
 "nbformat_minor": 5
}
